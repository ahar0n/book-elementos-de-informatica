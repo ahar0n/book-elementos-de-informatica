{
 "cells": [
  {
   "cell_type": "markdown",
   "id": "funded-jacket",
   "metadata": {},
   "source": [
    "# Dígitos binarios\n",
    "\n",
    "Los computadores son capaces de representar cualquier información que pueda ser digitalizada. Esta información es almacenada en forma codificada a través de patrones de ceros (`0`) y unos (`1`), denominados _bit_ (_**bi**nary digi**t**_) {cite}`zhang_6_2008`. El _bit_ es la unidad de información más básica en los sistemas de comunicaciones digitales.\n",
    "\n",
    "Los patrones de _bits_ pueden representar valores numéricos, caracteres de un alfabeto, signos de puntuación, imágenes y otras veces representan sonidos. Por conveniencia, el _bit_ `0` representa el valor `False` y el _bit_ `1` representa el valor `True`.\n",
    "\n",
    "La tasa de transferencia de datos en redes de computadoras se conoce como tasa de _bits_ o ancho de banda, y generalmente se mide en términos de un múltiplo de _bits_ por segundo ({term}`bps`).\n",
    "\n",
    "El _bit_ también se utiliza como una unidad para medir la capacidad de procesadores como las {term}`CPU` que tratan datos en fragmentos de 32 _bits_ (por ejemplo, procesadores con registros de 32 _bits_ y direcciones de memoria de 32 _bits_) y fragmentos de 64 _bits_. \n",
    "\n",
    "## Operaciones booleanas\n",
    "\n",
    "Los operadores booleanos permiten manipular _bits_. Las operaciones `and`, `or`, y `xor` (`or` exclusivo) son operaciones binarias debido a que combinan dos valores (entradas) para producir un tercer valor (salida). La operación `not` se diferencia de las anteriores porque es unaria, es decir, solo requiere una entrada.\n",
    "\n",
    "```{note}\n",
    "Los operadores booleanos son denominados así en honor al matemático [George Boole](https://www.biografiasyvidas.com/biografia/b/boole.htm) (1815-1864), que fue un pionero en el campo de la lógica.\n",
    "```\n",
    "\n",
    "- **`and`**, produce una salida verdadera o falsa de una declaración formada por la combinación de dos declaraciones más pequeñas o más simples.\n",
    "- **`or`**, produce un estado verdadero cuando al menos uno de sus componentes es verdadero.\n",
    "- **`xor`**, produce una salida verdadera cuando sus entradas son dos valores diferentes.\n",
    "- **`not`**, produce una salida que es de valor opuesto a su entrada. Por lo tanto, representa la negación de una entrada.\n",
    "\n",
    "Las posibles entradas y valores de salidas de las operaciones booleandas son presentados en la siguiente tabla."
   ]
  },
  {
   "cell_type": "code",
   "execution_count": 1,
   "id": "exciting-chance",
   "metadata": {
    "tags": [
     "remove-cell"
    ]
   },
   "outputs": [
    {
     "data": {
      "text/html": [
       "<style  type=\"text/css\" >\n",
       "</style><table id=\"T_224ce_\" ><thead>    <tr>        <th class=\"col_heading level0 col0\" >P</th>        <th class=\"col_heading level0 col1\" >Q</th>        <th class=\"col_heading level0 col2\" >P and Q</th>        <th class=\"col_heading level0 col3\" >P or Q</th>        <th class=\"col_heading level0 col4\" >P xor Q</th>        <th class=\"col_heading level0 col5\" >not P</th>    </tr></thead><tbody>\n",
       "                <tr>\n",
       "                                <td id=\"T_224ce_row0_col0\" class=\"data row0 col0\" >False</td>\n",
       "                        <td id=\"T_224ce_row0_col1\" class=\"data row0 col1\" >False</td>\n",
       "                        <td id=\"T_224ce_row0_col2\" class=\"data row0 col2\" >False</td>\n",
       "                        <td id=\"T_224ce_row0_col3\" class=\"data row0 col3\" >False</td>\n",
       "                        <td id=\"T_224ce_row0_col4\" class=\"data row0 col4\" >False</td>\n",
       "                        <td id=\"T_224ce_row0_col5\" class=\"data row0 col5\" >True</td>\n",
       "            </tr>\n",
       "            <tr>\n",
       "                                <td id=\"T_224ce_row1_col0\" class=\"data row1 col0\" >False</td>\n",
       "                        <td id=\"T_224ce_row1_col1\" class=\"data row1 col1\" >True</td>\n",
       "                        <td id=\"T_224ce_row1_col2\" class=\"data row1 col2\" >False</td>\n",
       "                        <td id=\"T_224ce_row1_col3\" class=\"data row1 col3\" >True</td>\n",
       "                        <td id=\"T_224ce_row1_col4\" class=\"data row1 col4\" >True</td>\n",
       "                        <td id=\"T_224ce_row1_col5\" class=\"data row1 col5\" >True</td>\n",
       "            </tr>\n",
       "            <tr>\n",
       "                                <td id=\"T_224ce_row2_col0\" class=\"data row2 col0\" >True</td>\n",
       "                        <td id=\"T_224ce_row2_col1\" class=\"data row2 col1\" >False</td>\n",
       "                        <td id=\"T_224ce_row2_col2\" class=\"data row2 col2\" >False</td>\n",
       "                        <td id=\"T_224ce_row2_col3\" class=\"data row2 col3\" >True</td>\n",
       "                        <td id=\"T_224ce_row2_col4\" class=\"data row2 col4\" >True</td>\n",
       "                        <td id=\"T_224ce_row2_col5\" class=\"data row2 col5\" >False</td>\n",
       "            </tr>\n",
       "            <tr>\n",
       "                                <td id=\"T_224ce_row3_col0\" class=\"data row3 col0\" >True</td>\n",
       "                        <td id=\"T_224ce_row3_col1\" class=\"data row3 col1\" >True</td>\n",
       "                        <td id=\"T_224ce_row3_col2\" class=\"data row3 col2\" >True</td>\n",
       "                        <td id=\"T_224ce_row3_col3\" class=\"data row3 col3\" >True</td>\n",
       "                        <td id=\"T_224ce_row3_col4\" class=\"data row3 col4\" >False</td>\n",
       "                        <td id=\"T_224ce_row3_col5\" class=\"data row3 col5\" >False</td>\n",
       "            </tr>\n",
       "    </tbody></table>"
      ],
      "text/plain": [
       "<pandas.io.formats.style.Styler at 0x7fc49194ee20>"
      ]
     },
     "metadata": {
      "scrapbook": {
       "mime_prefix": "",
       "name": "tab-booleanas"
      }
     },
     "output_type": "display_data"
    }
   ],
   "source": [
    "from myst_nb import glue\n",
    "\n",
    "import pandas as pd\n",
    "booleanas = pd.DataFrame({\n",
    "    'P': [False, False, True, True,], \n",
    "    'Q': [False, True, False, True]\n",
    "    })\n",
    "booleanas['P and Q'] = booleanas['P'] & booleanas['Q']\n",
    "booleanas['P or Q'] = booleanas['P'] | booleanas['Q']\n",
    "booleanas['P xor Q'] = booleanas['P'] != booleanas['Q']\n",
    "booleanas['not P'] = ~ booleanas['P']\n",
    "glue('tab-booleanas', booleanas.style.hide_index())"
   ]
  },
  {
   "cell_type": "markdown",
   "id": "unavailable-vision",
   "metadata": {},
   "source": [
    "```{glue:figure} tab-booleanas\n",
    ":figwidth: 370px\n",
    ":align: center\n",
    "Entradas y salidas de operaciones booleanas.\n",
    "```\n",
    "\n",
    "## Notación hexadecimal\n",
    "\n",
    "Las actividades internas de una computadora operan con patrones de _bits_, algunos de los cuales puedes contener varios dígitos, por ejemplo, `1011 0100 1000`. Debido a la complejidad en la comprensión de estas cadenas de dígitos, su representa se simplifica por medio de la notación hexadecimal.\n",
    "\n",
    "La notación hexadecimal utiliza un símbolo para representar un patrón de cuatro _bits_. Así por ejemplo, una cadena de doce _bits_ puede ser representada por tres símbolos hexadecimales. En la siguiente tabla, la columna de la izquierda reproduce todos los patrones de _bits_ posibles de longitud cuatro; la columna de la derecha muestra el símbolo utilizado en notación hexadecimal para representar el patrón de _bits_ a su izquierda."
   ]
  },
  {
   "cell_type": "code",
   "execution_count": 2,
   "id": "moral-seventh",
   "metadata": {
    "tags": [
     "remove-cell"
    ]
   },
   "outputs": [
    {
     "data": {
      "text/html": [
       "<style  type=\"text/css\" >\n",
       "</style><table id=\"T_df4a6_\" ><thead>    <tr>        <th class=\"col_heading level0 col0\" >Patrón de bits</th>        <th class=\"col_heading level0 col1\" >Hexadecimal</th>    </tr></thead><tbody>\n",
       "                <tr>\n",
       "                                <td id=\"T_df4a6_row0_col0\" class=\"data row0 col0\" >0000</td>\n",
       "                        <td id=\"T_df4a6_row0_col1\" class=\"data row0 col1\" >0</td>\n",
       "            </tr>\n",
       "            <tr>\n",
       "                                <td id=\"T_df4a6_row1_col0\" class=\"data row1 col0\" >0001</td>\n",
       "                        <td id=\"T_df4a6_row1_col1\" class=\"data row1 col1\" >1</td>\n",
       "            </tr>\n",
       "            <tr>\n",
       "                                <td id=\"T_df4a6_row2_col0\" class=\"data row2 col0\" >0010</td>\n",
       "                        <td id=\"T_df4a6_row2_col1\" class=\"data row2 col1\" >2</td>\n",
       "            </tr>\n",
       "            <tr>\n",
       "                                <td id=\"T_df4a6_row3_col0\" class=\"data row3 col0\" >0011</td>\n",
       "                        <td id=\"T_df4a6_row3_col1\" class=\"data row3 col1\" >3</td>\n",
       "            </tr>\n",
       "            <tr>\n",
       "                                <td id=\"T_df4a6_row4_col0\" class=\"data row4 col0\" >0100</td>\n",
       "                        <td id=\"T_df4a6_row4_col1\" class=\"data row4 col1\" >4</td>\n",
       "            </tr>\n",
       "            <tr>\n",
       "                                <td id=\"T_df4a6_row5_col0\" class=\"data row5 col0\" >0101</td>\n",
       "                        <td id=\"T_df4a6_row5_col1\" class=\"data row5 col1\" >5</td>\n",
       "            </tr>\n",
       "            <tr>\n",
       "                                <td id=\"T_df4a6_row6_col0\" class=\"data row6 col0\" >0110</td>\n",
       "                        <td id=\"T_df4a6_row6_col1\" class=\"data row6 col1\" >6</td>\n",
       "            </tr>\n",
       "            <tr>\n",
       "                                <td id=\"T_df4a6_row7_col0\" class=\"data row7 col0\" >0111</td>\n",
       "                        <td id=\"T_df4a6_row7_col1\" class=\"data row7 col1\" >7</td>\n",
       "            </tr>\n",
       "            <tr>\n",
       "                                <td id=\"T_df4a6_row8_col0\" class=\"data row8 col0\" >1000</td>\n",
       "                        <td id=\"T_df4a6_row8_col1\" class=\"data row8 col1\" >8</td>\n",
       "            </tr>\n",
       "            <tr>\n",
       "                                <td id=\"T_df4a6_row9_col0\" class=\"data row9 col0\" >1001</td>\n",
       "                        <td id=\"T_df4a6_row9_col1\" class=\"data row9 col1\" >9</td>\n",
       "            </tr>\n",
       "            <tr>\n",
       "                                <td id=\"T_df4a6_row10_col0\" class=\"data row10 col0\" >1010</td>\n",
       "                        <td id=\"T_df4a6_row10_col1\" class=\"data row10 col1\" >A</td>\n",
       "            </tr>\n",
       "            <tr>\n",
       "                                <td id=\"T_df4a6_row11_col0\" class=\"data row11 col0\" >1011</td>\n",
       "                        <td id=\"T_df4a6_row11_col1\" class=\"data row11 col1\" >B</td>\n",
       "            </tr>\n",
       "            <tr>\n",
       "                                <td id=\"T_df4a6_row12_col0\" class=\"data row12 col0\" >1100</td>\n",
       "                        <td id=\"T_df4a6_row12_col1\" class=\"data row12 col1\" >C</td>\n",
       "            </tr>\n",
       "            <tr>\n",
       "                                <td id=\"T_df4a6_row13_col0\" class=\"data row13 col0\" >1101</td>\n",
       "                        <td id=\"T_df4a6_row13_col1\" class=\"data row13 col1\" >D</td>\n",
       "            </tr>\n",
       "            <tr>\n",
       "                                <td id=\"T_df4a6_row14_col0\" class=\"data row14 col0\" >1110</td>\n",
       "                        <td id=\"T_df4a6_row14_col1\" class=\"data row14 col1\" >E</td>\n",
       "            </tr>\n",
       "            <tr>\n",
       "                                <td id=\"T_df4a6_row15_col0\" class=\"data row15 col0\" >1111</td>\n",
       "                        <td id=\"T_df4a6_row15_col1\" class=\"data row15 col1\" >F</td>\n",
       "            </tr>\n",
       "    </tbody></table>"
      ],
      "text/plain": [
       "<pandas.io.formats.style.Styler at 0x7fc470016df0>"
      ]
     },
     "metadata": {
      "scrapbook": {
       "mime_prefix": "",
       "name": "tab-hexadecimal"
      }
     },
     "output_type": "display_data"
    }
   ],
   "source": [
    "from src.data_convert import dec2hex, dec2bin\n",
    "\n",
    "hexa = []\n",
    "binary = []\n",
    "for x in range(16):\n",
    "  hexa.append(dec2hex(x))\n",
    "  binary.append(dec2bin(x))\n",
    "table = pd.DataFrame({\n",
    "  'Patrón de bits': binary, \n",
    "  'Hexadecimal': hexa\n",
    "  })\n",
    "glue('tab-hexadecimal', table.style.hide_index())"
   ]
  },
  {
   "cell_type": "markdown",
   "id": "legislative-priest",
   "metadata": {},
   "source": [
    "```{glue:figure} tab-hexadecimal\n",
    ":figwidth: 240px\n",
    "\n",
    "Sistema de codificación hexadecimal.\n",
    "```"
   ]
  },
  {
   "cell_type": "code",
   "execution_count": 3,
   "id": "empty-jordan",
   "metadata": {
    "tags": [
     "remove-cell"
    ]
   },
   "outputs": [
    {
     "data": {
      "text/plain": [
       "'10110101'"
      ]
     },
     "metadata": {
      "scrapbook": {
       "mime_prefix": "",
       "name": "b5-bin"
      }
     },
     "output_type": "display_data"
    },
    {
     "data": {
      "text/plain": [
       "'B5'"
      ]
     },
     "metadata": {
      "scrapbook": {
       "mime_prefix": "",
       "name": "b5-hex"
      }
     },
     "output_type": "display_data"
    },
    {
     "data": {
      "text/plain": [
       "'1010010011001000'"
      ]
     },
     "metadata": {
      "scrapbook": {
       "mime_prefix": "",
       "name": "A4C8-bin"
      }
     },
     "output_type": "display_data"
    },
    {
     "data": {
      "text/plain": [
       "'A4C8'"
      ]
     },
     "metadata": {
      "scrapbook": {
       "mime_prefix": "",
       "name": "A4C8-hex"
      }
     },
     "output_type": "display_data"
    }
   ],
   "source": [
    "from src.data_convert import hex2bin\n",
    "\n",
    "b5_bin = hex2bin('B5')\n",
    "a4c8_bin = hex2bin('A4C8')\n",
    "\n",
    "glue('b5-bin', b5_bin)\n",
    "glue('b5-hex', 'B5')\n",
    "glue('A4C8-bin', a4c8_bin)\n",
    "glue('A4C8-hex', 'A4C8')"
   ]
  },
  {
   "cell_type": "markdown",
   "id": "apparent-evanescence",
   "metadata": {},
   "source": [
    "Por ejemplo, el patrón de _bits_ {glue:text}`b5-bin` se representa como {glue:text}`b5-hex` utilizando la notación hexadecimal. Esto se obtiene dividiendo el patrón de bits en cadenas de cuatro dígitos y luego representando cada cadena por su equivalente en notación hexadecimal. Así, el patrón de 16 _bits_ {glue:text}`A4C8-bin` puede reducirse a {glue:text}`A4C8-hex`.\n",
    "\n",
    "\n",
    "## Bibliografia\n",
    "\n",
    "```{bibliography} ../refs.bib\n",
    ":style: plain\n",
    ":filter: docname in docnames\n",
    "```"
   ]
  }
 ],
 "metadata": {
  "jupytext": {
   "formats": "md:myst",
   "text_representation": {
    "extension": ".md",
    "format_name": "myst"
   }
  },
  "kernelspec": {
   "display_name": "Python 3",
   "language": "python",
   "name": "python3"
  },
  "language_info": {
   "codemirror_mode": {
    "name": "ipython",
    "version": 3
   },
   "file_extension": ".py",
   "mimetype": "text/x-python",
   "name": "python",
   "nbconvert_exporter": "python",
   "pygments_lexer": "ipython3",
   "version": "3.8.5"
  },
  "source_map": [
   11,
   38,
   53,
   67,
   81,
   89,
   100
  ]
 },
 "nbformat": 4,
 "nbformat_minor": 5
}