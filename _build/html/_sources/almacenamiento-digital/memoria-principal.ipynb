{
 "cells": [
  {
   "cell_type": "markdown",
   "id": "precious-milwaukee",
   "metadata": {},
   "source": [
    "# Memoria principal\n",
    "\n",
    "Para el almacenamiento de datos, un computador contiene una gran colección de circuitos o _flip-flops_, cada uno de los cuales es capaz de almacenar un solo _bit_. Este depósito de _bits_ se conoce como la memoria principal de la máquina.\n",
    "\n",
    "```{note}\n",
    "Los _flip-flops_ se utilizan como elementos de almacenamiento de datos. Un _flip-flop_ es un dispositivo que almacena un solo _bit_ de datos. Es el elemento básico de almacenamiento en la lógica secuencial. Los _flip-flops_ son bloques de construcción fundamentales de los sistemas electrónicos digitales utilizados en los computadores, las comunicaciones y otros tipos de sistemas.\n",
    "```\n",
    "\n",
    "La capacidad de almacenamiento de una memoria se mide en _bits_. Usualmente, un registro digital u otras memorias digitales, tengan una capacidad de representación de informaciones expresada en múltiplos de 8 _bits_. Una cadena de 8 _bits_ se denomina _byte_.\n",
    "\n",
    "## Organización de la memoria\n",
    "\n",
    "La memoria principal está organizada en unidades denominadas celdas, con un tamaño típico de ocho bits. De este modo, pequeñas computadoras integradas en dispositivos domésticos (por ejemplo, hornos microondas, lavadoras) pueden tener memorias principales que consisten cientos de celdas, mientras computadores pueden tener millones de celdas en sus memorias principales.\n",
    "\n",
    "```{figure} ../images/byte.png\n",
    ":height: 100px\n",
    ":name: fig-byte\n",
    "\n",
    "Organización de un _byte_ en una celda\n",
    "```\n",
    "\n",
    "Normalmente, los _bits_ dentro de una celda de memoria están dispuestos en una fila ({numref}`fig-byte`). El _bit_ de la izquierda se llama _bit_ más significativo en referencia al hecho de que si el contenido de la celda se interpretara como la representación de un valor numérico, este _bit_ sería el dígito más significativo del número. Del mismo modo, el _bit_ de la derecha se denomina _bit_ menos significativo.\n",
    "\n",
    "```{figure} ../images/memoria-celdas.png\n",
    ":name: fig-memoria-celdas\n",
    ":figclass: margin\n",
    "     \n",
    "Representación de celdas de una memoria.\n",
    "```\n",
    "\n",
    "Para identificar las celdas individuales de la memoria principal de una computadora, a cada celda se le asigna un identificador único o dirección. Tal sistema de direcciones no sólo permite una forma de identificar de forma única cada celda, sino que también asocia un orden a las celdas ({numref}`fig-memoria-celdas`).\n",
    "\n",
    "La asignación de un orden tanto a las celdas de la memoria como a los bits dentro de cada celda, permite todo el conjunto de _bits_ dentro de la memoria principal está esencialmente ordenado en una larga fila. Los segmentos de esta fila pueden por lo tanto utilizarse para almacenar patrones de bits que pueden ser más largos que la longitud de una celda. Por ejemplo, es posible almacenar una cadena de 16 _bits_ simplemente usando dos celdas consecutivas de memoria.\n",
    "\n",
    "Esta organización de memoria permite que otros circuitos pueden obtener datos de la memoria solicitando electrónicamente el contenido de una cierta dirección (operación de lectura), o pueden registrar información en la memoria solicitando que se registre un cierto patrón de _bits_ en la celda en una dirección particular (operación de escritura).\n",
    "\n",
    "## Memoria RAM\n",
    "\n",
    "Considerando que las celdas de la memoria son individuales y direccionables, se puede acceder a las células de forma independiente según se requiera. Para reflejar la capacidad de acceder a las celdas en cualquier orden, la memoria principal de una computadora suele denominarse {term}`RAM`.\n",
    "\n",
    "La {term}`RAM` en la mayoría de los computadores modernos se construye utilizando tecnologías análogas, pero más complejas, que proporcionan una mayor miniaturización y un tiempo de respuesta más rápido. Muchas de estas tecnologías almacenan  _bits_  como pequeñas cargas eléctricas que se disipan rápidamente. Por lo tanto, estos dispositivos requieren de circuitos adicionales, conocidos como circuitos de actualización, que repiten las cargas muchas veces por segundo. Esta tecnología a menudo se denomina memoria dinámica ({term}`DRAM`). Otras veces se utilizan tecnología {term}`DRAM` sincrónico ({term}`SDRAM`), que en relación a la {term}`DRAM`, aplica técnicas adicionales para disminuir el tiempo para recuperar el contenido de sus celdas {cite}`noauthor_whats_2018`.\n",
    "\n",
    "Es usual que los sistemas de memoria principal estén diseñados de tal forma que el número total de celdas sea expresador en potencia de dos. En este sentido, la comunidad adoptó el prefijo kilo en referencia a la unidad 1024, debido a su cercanía con mil. Es decir, el término kilobyte (KB) se usó para referirse a 1024 _bytes_. Por lo tanto, se decía que una máquina con 4096 celdas de memoria tenía una memoria de 4KB (4096 = 4 x 1024). Esta terminología también se extendió a otros múltiplos, como el megabyte, gigabyte, terabyte, entre otros."
   ]
  },
  {
   "cell_type": "code",
   "execution_count": 1,
   "id": "referenced-plenty",
   "metadata": {
    "tags": [
     "remove-input"
    ]
   },
   "outputs": [
    {
     "data": {
      "text/html": [
       "<style  type=\"text/css\" >\n",
       "</style><table id=\"T_568fe_\" ><thead>    <tr>        <th class=\"col_heading level0 col0\" >Sistema Internacional (SI)</th>        <th class=\"col_heading level0 col1\" >Múltiplo</th>    </tr></thead><tbody>\n",
       "                <tr>\n",
       "                                <td id=\"T_568fe_row0_col0\" class=\"data row0 col0\" >Kilobit (kbit)</td>\n",
       "                        <td id=\"T_568fe_row0_col1\" class=\"data row0 col1\" >10<sup>3</sup></td>\n",
       "            </tr>\n",
       "            <tr>\n",
       "                                <td id=\"T_568fe_row1_col0\" class=\"data row1 col0\" >Megabit (Mbit)</td>\n",
       "                        <td id=\"T_568fe_row1_col1\" class=\"data row1 col1\" >10<sup>6</sup></td>\n",
       "            </tr>\n",
       "            <tr>\n",
       "                                <td id=\"T_568fe_row2_col0\" class=\"data row2 col0\" >Gigabit (Gbit)</td>\n",
       "                        <td id=\"T_568fe_row2_col1\" class=\"data row2 col1\" >10<sup>9</sup></td>\n",
       "            </tr>\n",
       "            <tr>\n",
       "                                <td id=\"T_568fe_row3_col0\" class=\"data row3 col0\" >Terabit (Tbit)</td>\n",
       "                        <td id=\"T_568fe_row3_col1\" class=\"data row3 col1\" >10<sup>12</sup></td>\n",
       "            </tr>\n",
       "            <tr>\n",
       "                                <td id=\"T_568fe_row4_col0\" class=\"data row4 col0\" >Petabit (Pbit)</td>\n",
       "                        <td id=\"T_568fe_row4_col1\" class=\"data row4 col1\" >10<sup>15</sup></td>\n",
       "            </tr>\n",
       "            <tr>\n",
       "                                <td id=\"T_568fe_row5_col0\" class=\"data row5 col0\" >Exabit (Ebit)</td>\n",
       "                        <td id=\"T_568fe_row5_col1\" class=\"data row5 col1\" >10<sup>18</sup></td>\n",
       "            </tr>\n",
       "            <tr>\n",
       "                                <td id=\"T_568fe_row6_col0\" class=\"data row6 col0\" >Zettabit (Zbit)</td>\n",
       "                        <td id=\"T_568fe_row6_col1\" class=\"data row6 col1\" >10<sup>21</sup></td>\n",
       "            </tr>\n",
       "            <tr>\n",
       "                                <td id=\"T_568fe_row7_col0\" class=\"data row7 col0\" >Yottabit (Ybit)</td>\n",
       "                        <td id=\"T_568fe_row7_col1\" class=\"data row7 col1\" >10<sup>24</sup></td>\n",
       "            </tr>\n",
       "    </tbody></table>"
      ],
      "text/plain": [
       "<pandas.io.formats.style.Styler at 0x7ff838475490>"
      ]
     },
     "execution_count": 1,
     "metadata": {},
     "output_type": "execute_result"
    }
   ],
   "source": [
    "import pandas as pd\n",
    "\n",
    "table = pd.read_pickle('./data/multiplos_del_bit.pickle')\n",
    "si = table['Prefijo del SI(SI)']\n",
    "unidad = []\n",
    "multiplo = []\n",
    "for i in range(len(si)):\n",
    "    unidad.append('{} ({})'.format(si.loc[i, 'Nombre'], si.loc[i, 'Símbolo']))\n",
    "    multiplo.append('10<sup>{}</sup>'.format(3*(i+1)))\n",
    "\n",
    "df = pd.DataFrame({'Sistema Internacional (SI)': unidad, 'Múltiplo': multiplo})\n",
    "\n",
    "df.style.hide_index()"
   ]
  },
  {
   "cell_type": "markdown",
   "id": "selective-bunny",
   "metadata": {},
   "source": [
    "Desafortunadamente, esta aplicación de prefijos representa un mal uso de la terminología porque estos se usan en referencia a unidades que son potencias de mil. A fines de la década de 1990, las organizaciones de estándares internacionales desarrollaron terminología especializada {cite}`thor_prefixes_2000` para potencias de dos."
   ]
  },
  {
   "cell_type": "code",
   "execution_count": 2,
   "id": "realistic-demand",
   "metadata": {
    "tags": [
     "remove-input"
    ]
   },
   "outputs": [
    {
     "data": {
      "text/html": [
       "<style  type=\"text/css\" >\n",
       "</style><table id=\"T_053fc_\" ><thead>    <tr>        <th class=\"col_heading level0 col0\" >Binario (IEC 60027-2)</th>        <th class=\"col_heading level0 col1\" >Múltiplo</th>    </tr></thead><tbody>\n",
       "                <tr>\n",
       "                                <td id=\"T_053fc_row0_col0\" class=\"data row0 col0\" >Kibibit (Kibit)</td>\n",
       "                        <td id=\"T_053fc_row0_col1\" class=\"data row0 col1\" >2<sup>10</sup></td>\n",
       "            </tr>\n",
       "            <tr>\n",
       "                                <td id=\"T_053fc_row1_col0\" class=\"data row1 col0\" >Mebibit (Mibit)</td>\n",
       "                        <td id=\"T_053fc_row1_col1\" class=\"data row1 col1\" >2<sup>20</sup></td>\n",
       "            </tr>\n",
       "            <tr>\n",
       "                                <td id=\"T_053fc_row2_col0\" class=\"data row2 col0\" >Gibibit (Gibit)</td>\n",
       "                        <td id=\"T_053fc_row2_col1\" class=\"data row2 col1\" >2<sup>30</sup></td>\n",
       "            </tr>\n",
       "            <tr>\n",
       "                                <td id=\"T_053fc_row3_col0\" class=\"data row3 col0\" >Tebibit (Tibit)</td>\n",
       "                        <td id=\"T_053fc_row3_col1\" class=\"data row3 col1\" >2<sup>40</sup></td>\n",
       "            </tr>\n",
       "            <tr>\n",
       "                                <td id=\"T_053fc_row4_col0\" class=\"data row4 col0\" >Pebibit (Pibit)</td>\n",
       "                        <td id=\"T_053fc_row4_col1\" class=\"data row4 col1\" >2<sup>50</sup></td>\n",
       "            </tr>\n",
       "            <tr>\n",
       "                                <td id=\"T_053fc_row5_col0\" class=\"data row5 col0\" >Exbibit (Eibit)</td>\n",
       "                        <td id=\"T_053fc_row5_col1\" class=\"data row5 col1\" >2<sup>60</sup></td>\n",
       "            </tr>\n",
       "            <tr>\n",
       "                                <td id=\"T_053fc_row6_col0\" class=\"data row6 col0\" >Zebibit (Zibit)</td>\n",
       "                        <td id=\"T_053fc_row6_col1\" class=\"data row6 col1\" >2<sup>70</sup></td>\n",
       "            </tr>\n",
       "            <tr>\n",
       "                                <td id=\"T_053fc_row7_col0\" class=\"data row7 col0\" >Yobibit (Yibit)</td>\n",
       "                        <td id=\"T_053fc_row7_col1\" class=\"data row7 col1\" >2<sup>80</sup></td>\n",
       "            </tr>\n",
       "    </tbody></table>"
      ],
      "text/plain": [
       "<pandas.io.formats.style.Styler at 0x7ff838475460>"
      ]
     },
     "execution_count": 2,
     "metadata": {},
     "output_type": "execute_result"
    }
   ],
   "source": [
    "si = table['Prefijo binario(IEC 60027-2)']\n",
    "unidad = []\n",
    "multiplo = []\n",
    "for i in range(len(si)):\n",
    "    unidad.append('{} ({})'.format(si.loc[i, 'Nombre'], si.loc[i, 'Símbolo']))\n",
    "    multiplo.append('2<sup>{}</sup>'.format(10*(i+1)))\n",
    "\n",
    "df = pd.DataFrame({'Binario (IEC 60027-2)': unidad, 'Múltiplo': multiplo})\n",
    "\n",
    "df.style.hide_index()"
   ]
  },
  {
   "cell_type": "markdown",
   "id": "personal-criterion",
   "metadata": {},
   "source": [
    "## Bibliografia\n",
    "\n",
    "```{bibliography} ../refs.bib\n",
    ":style: plain\n",
    ":filter: docname in docnames\n",
    "```"
   ]
  }
 ],
 "metadata": {
  "jupytext": {
   "formats": "md:myst",
   "text_representation": {
    "extension": ".md",
    "format_name": "myst"
   }
  },
  "kernelspec": {
   "display_name": "Python 3",
   "language": "python",
   "name": "python3"
  },
  "language_info": {
   "codemirror_mode": {
    "name": "ipython",
    "version": 3
   },
   "file_extension": ".py",
   "mimetype": "text/x-python",
   "name": "python",
   "nbconvert_exporter": "python",
   "pygments_lexer": "ipython3",
   "version": "3.8.5"
  },
  "source_map": [
   11,
   57,
   73,
   77,
   90
  ]
 },
 "nbformat": 4,
 "nbformat_minor": 5
}