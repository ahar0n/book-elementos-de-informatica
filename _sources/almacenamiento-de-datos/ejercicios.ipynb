{
 "cells": [
  {
   "cell_type": "code",
   "execution_count": 1,
   "id": "heated-things",
   "metadata": {
    "tags": [
     "remove-cell"
    ]
   },
   "outputs": [
    {
     "data": {
      "text/plain": [
       "'01000101 01111000 01101001 01110011 01110100 01100101 01101110 00100000 01100001 01101100 01100111 01101111 01110010 01101001 01110100 01101101 01101111 01110011 00100000 01110001 01110101 01100101 00100000 01110010 01100101 01110011 01110101 01100101 01101100 01110110 01100101 01101110 00100000 01100101 01110011 01110100 01100001 00100000 01110100 01100001 01110010 01100101 01100001 00101110'"
      ]
     },
     "metadata": {
      "scrapbook": {
       "mime_prefix": "",
       "name": "msg-binary"
      }
     },
     "output_type": "display_data"
    }
   ],
   "source": [
    "from myst_nb import glue\n",
    "fid = open('./data/binary-msg.txt', 'r')\n",
    "msg = fid.readlines()[0]\n",
    "fid.close()\n",
    "glue('msg-binary', msg)"
   ]
  },
  {
   "cell_type": "markdown",
   "id": "suffering-strain",
   "metadata": {},
   "source": [
    "# Ejercicios\n",
    "\n",
    "1. ¿Cuál es el valor del _bit_ menos significativo en los patrones de _bits_ representados por las siguientes notaciones hexadecimales?\n",
    "    - 9A\n",
    "    - 1B\n",
    "    - 6E\n",
    "\n",
    "1. ¿Qué mejora se obtiene aumentando la velocidad de rotación de un disco o CD?\n",
    "\n",
    "1. ¿Qué factores permiten que todos los discos {term}`CD`, {term}`DVD` y Blu-ray sean leídos por una misma unidad? \n",
    "\n",
    "1. ¿Qué ventajas proporcionan las memoriasen comparación con los otros sistemas de almacenamiento masivo?\n",
    "\n",
    "1. ¿Qué características de las unidades de {term}`HDD` hacen que sigan siendo competitivas?\n",
    "\n",
    "1. El siguiente código muestra un mensaje codificado en {term}`ASCII` utilizando 8 _bits_ por símbolo. Interprete lo que dice.\n",
    "    {glue:text}`msg-binary`\n",
    "\n",
    "1. Codifique las siguientes sentencias en {term}`ASCII`.\n",
    "    - \"Espera!\" semáforo en rojo.\n",
    "    - 12 + 21 = 33?\n",
    "\n",
    "1. Convertir las siguientes representaciones binarias a su equivalente en base 10.\n",
    "    - 101010\n",
    "    - 100001\n",
    "    - 10111\n",
    "    - 0110  \n",
    "    - 11111\n",
    "\n",
    "1. Convertir cada una de las siguientes representaciones en base 10 a sus equivalente en notación binaria.\n",
    "    - 32\n",
    "    - 64\n",
    "    - 96\n",
    "    - 15\n",
    "    - 27\n",
    "\n",
    "1. ¿Cuál es el valor numérico más grande que se podría representar con 3 _bytes_ si cada dígito se codificara utilizando un patrón {term}`ASCII` por _byte_? ¿Y si se utilizara la notación binaria?\n",
    "    % Un dígito por byte, en tres bytes permite almacenar tres dígitos. El mayor es 999.\n",
    "    % 2^(8+8+8) = 16 777 216\n",
    "1. ¿Cuántos megabytes de espacio de almacenamiento se necesitarían para almacenar un documento de 20 páginas que contiene detalles de los empleados, en el que cada página contiene 100 registros y cada registro tiene 200 caracteres, si se usaran caracteres Unicode de dos _bytes_?\n",
    "    %  Solución\n",
    "    %    Peso por registro = 200 char * 2 bytes = 400 bytes\n",
    "    %    Peso por página = 100 regs. * 400 bytes (reg.) = 40 000 bytes\n",
    "    %    Peso del documento = 40 000 bytes (pág.) * 20 = 800 000 bytes = 800 kB\n",
    "1. ¿Cuál es la ventaja de representar imágenes a través de estructuras geométricas en lugar de mapas de _bits_? ¿Qué pasa con las técnicas de mapa de _bits_ en oposición a las estructuras geométricas?\n",
    "    %  Solución:\n",
    "    %    Una las ventajas de usar estructuras geométricas es que no sufren deformación al escalar.\n",
    "1. Suponga que una cámara digital tiene una capacidad de almacenamiento de 500 MB. ¿Cuántas fotografías en blanco y negro de 512 x 512 píxeles (filas por columnas) podrían almacenarse si cada píxel requiriera 1 _bit_ de almacenamiento?\n",
    "    % Solución:\n",
    "    %   capacidad de cámara en bits es 500 * 2^20 = 524 288 000 bytes o 512 MB\n",
    "    %   tamaño en bits de cada fotografías es 512*512 pixeles = 262 144 bits o 246 bytes\n",
    "    %   cantidad de fotografía es (500*2^20)bytes / (512*512/8)bytes = 16 000\n",
    "1. Suponga que una imagen está representada en una pantalla de visualización por una matriz cuadrada que contiene 256 x 256 píxeles (columnas por filas). Si para cada píxel se requieren 3 _bytes_ para codificar el color y 8 _bits_ para codificar la intensidad, ¿cuánta memoria (en _bytes_) se requieren para contener la imagen completa?\n",
    "    % Solución\n",
    "    %   La imagen de 256x256 (65 536) px requiere de 4 bytes (3 bytes + 8 bits) de memoria por píxel.\n",
    "    %   Para su visualización se requieren una memoria de 256*256*4 = 262 144 bytes o 256*256*4 / 2^10 = 256 KiB.\n",
    "1. Suponga que desea crear una copia de seguridad de sus datos de alrededor de 10 GB. ¿Qué medio de almacenamiento basado en un sistema óptico sería razonable utilizar? \n",
    "    % Bluray"
   ]
  }
 ],
 "metadata": {
  "jupytext": {
   "formats": "md:myst",
   "text_representation": {
    "extension": ".md",
    "format_name": "myst"
   }
  },
  "kernelspec": {
   "display_name": "Python 3",
   "language": "python",
   "name": "python3"
  },
  "language_info": {
   "codemirror_mode": {
    "name": "ipython",
    "version": 3
   },
   "file_extension": ".py",
   "mimetype": "text/x-python",
   "name": "python",
   "nbconvert_exporter": "python",
   "pygments_lexer": "ipython3",
   "version": "3.8.5"
  },
  "source_map": [
   13,
   20
  ]
 },
 "nbformat": 4,
 "nbformat_minor": 5
}